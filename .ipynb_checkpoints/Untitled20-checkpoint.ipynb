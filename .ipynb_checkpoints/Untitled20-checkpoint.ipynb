{
 "cells": [
  {
   "cell_type": "code",
   "execution_count": 5,
   "id": "a799cfa9",
   "metadata": {},
   "outputs": [
    {
     "ename": "TypeError",
     "evalue": "'float' object cannot be interpreted as an integer",
     "output_type": "error",
     "traceback": [
      "\u001b[1;31m---------------------------------------------------------------------------\u001b[0m",
      "\u001b[1;31mTypeError\u001b[0m                                 Traceback (most recent call last)",
      "\u001b[1;32m~\\AppData\\Local\\Temp\\ipykernel_24536\\2275662618.py\u001b[0m in \u001b[0;36m<module>\u001b[1;34m\u001b[0m\n\u001b[0;32m      1\u001b[0m \u001b[1;32mimport\u001b[0m \u001b[0mnumpy\u001b[0m \u001b[1;32mas\u001b[0m \u001b[0mnp\u001b[0m\u001b[1;33m\u001b[0m\u001b[1;33m\u001b[0m\u001b[0m\n\u001b[1;32m----> 2\u001b[1;33m \u001b[0marr\u001b[0m\u001b[1;33m=\u001b[0m\u001b[0mnp\u001b[0m\u001b[1;33m.\u001b[0m\u001b[0mzeros\u001b[0m\u001b[1;33m(\u001b[0m\u001b[1;36m9.3\u001b[0m\u001b[1;33m)\u001b[0m\u001b[1;33m\u001b[0m\u001b[1;33m\u001b[0m\u001b[0m\n\u001b[0m\u001b[0;32m      3\u001b[0m \u001b[0marr\u001b[0m\u001b[1;33m\u001b[0m\u001b[1;33m\u001b[0m\u001b[0m\n",
      "\u001b[1;31mTypeError\u001b[0m: 'float' object cannot be interpreted as an integer"
     ]
    }
   ],
   "source": [
    "# create a class of name student print name roll no and cgpa by calling a class creating object"
   ]
  },
  {
   "cell_type": "code",
   "execution_count": null,
   "id": "3415fba4",
   "metadata": {},
   "outputs": [],
   "source": [
    "#The __init__ function is called every time an object is created from a class. "
   ]
  },
  {
   "cell_type": "code",
   "execution_count": 14,
   "id": "002fb0db",
   "metadata": {},
   "outputs": [
    {
     "name": "stdout",
     "output_type": "stream",
     "text": [
      "Name: Bibhab Banerjee\n",
      "Roll No.: 19\n",
      "CGPA: 8.8\n"
     ]
    }
   ],
   "source": [
    "class Student:\n",
    "    def __init__(self, name, roll_no, cgpa):\n",
    "        self.name = name\n",
    "        self.roll_no = roll_no\n",
    "        self.cgpa = cgpa\n",
    "\n",
    "    def print_details(self):\n",
    "        print(\"Name:\", self.name)\n",
    "        print(\"Roll No.:\", self.roll_no)\n",
    "        print(\"CGPA:\", self.cgpa)\n",
    "\n",
    "        \n",
    "#create an object of an student\n",
    "student2 = Student(\"Bibhab Banerjee\",19,8.8)\n",
    "student2.print_details()"
   ]
  },
  {
   "cell_type": "code",
   "execution_count": 15,
   "id": "2c015f90",
   "metadata": {},
   "outputs": [
    {
     "name": "stdout",
     "output_type": "stream",
     "text": [
      "Hello, Alice !\n"
     ]
    }
   ],
   "source": [
    "def greet(name):\n",
    "    print(\"Hello,\", name, \"!\")\n",
    "greet(\"Alice\")\n"
   ]
  },
  {
   "cell_type": "code",
   "execution_count": null,
   "id": "fd72bf6b",
   "metadata": {},
   "outputs": [],
   "source": []
  },
  {
   "cell_type": "code",
   "execution_count": null,
   "id": "ea20272b",
   "metadata": {},
   "outputs": [],
   "source": [
    "# create a class of 3 variables and insert 10 roll no and cgpa"
   ]
  },
  {
   "cell_type": "code",
   "execution_count": 22,
   "id": "f56b6d7a",
   "metadata": {},
   "outputs": [
    {
     "name": "stdout",
     "output_type": "stream",
     "text": [
      "Name: B Banerjee\n",
      "Roll No.: 101\n",
      "CGPA: 8.2\n",
      "\n",
      "Name: Subhu\n",
      "Roll No.: 102\n",
      "CGPA: 8.1\n",
      "\n",
      "Name: AYUSH RAJ\n",
      "Roll No.: 103\n",
      "CGPA: 8.9\n",
      "\n",
      "Name: Subhadip Maity\n",
      "Roll No.: 104\n",
      "CGPA: 9.0\n",
      "\n",
      "Name: Mani\n",
      "Roll No.: 105\n",
      "CGPA: 9.2\n",
      "\n",
      "Name: Frank\n",
      "Roll No.: 106\n",
      "CGPA: 3.6\n",
      "\n",
      "Name: Grace\n",
      "Roll No.: 107\n",
      "CGPA: 3.3\n",
      "\n",
      "Name: Henry\n",
      "Roll No.: 108\n",
      "CGPA: 3.7\n",
      "\n",
      "Name: Isabelle\n",
      "Roll No.: 109\n",
      "CGPA: 3.4\n",
      "\n",
      "Name: Jack\n",
      "Roll No.: 110\n",
      "CGPA: 3.0\n",
      "\n"
     ]
    }
   ],
   "source": [
    "class Student:\n",
    "    def __init__(self, name, roll, cgpa):\n",
    "        self.name = name\n",
    "        self.roll = roll\n",
    "        self.cgpa = cgpa\n",
    "\n",
    "students = []  \n",
    "\n",
    "\n",
    "students.append(Student(\"B Banerjee\",101,8.2))\n",
    "students.append(Student(\"Subhu\",102,8.1))\n",
    "students.append(Student(\"AYUSH RAJ\",103,8.9))\n",
    "students.append(Student(\"Subhadip Maity\",104,9.0))\n",
    "students.append(Student(\"Mani\",105,9.2))\n",
    "students.append(Student(\"Frank\", 106, 3.6))\n",
    "students.append(Student(\"Grace\", 107, 3.3))\n",
    "students.append(Student(\"Henry\", 108, 3.7))\n",
    "students.append(Student(\"Isabelle\", 109, 3.4))\n",
    "students.append(Student(\"Jack\", 110, 3.0))\n",
    "\n",
    "for student in students:\n",
    "    print(\"Name:\", student.name)\n",
    "    print(\"Roll No.:\", student.roll)\n",
    "    print(\"CGPA:\", student.cgpa)\n",
    "    print()              "
   ]
  },
  {
   "cell_type": "code",
   "execution_count": 20,
   "id": "29202122",
   "metadata": {},
   "outputs": [
    {
     "name": "stdout",
     "output_type": "stream",
     "text": [
      "Name: Alice\n",
      "Roll No.: 101\n",
      "CGPA: 3.5\n",
      "\n",
      "Name: Bob\n",
      "Roll No.: 102\n",
      "CGPA: 3.2\n",
      "\n",
      "Name: Charlie\n",
      "Roll No.: 103\n",
      "CGPA: 3.8\n",
      "\n",
      "Name: Dave\n",
      "Roll No.: 104\n",
      "CGPA: 3.1\n",
      "\n",
      "Name: Emma\n",
      "Roll No.: 105\n",
      "CGPA: 3.9\n",
      "\n",
      "Name: Frank\n",
      "Roll No.: 106\n",
      "CGPA: 3.6\n",
      "\n",
      "Name: Grace\n",
      "Roll No.: 107\n",
      "CGPA: 3.3\n",
      "\n",
      "Name: Henry\n",
      "Roll No.: 108\n",
      "CGPA: 3.7\n",
      "\n",
      "Name: Isabelle\n",
      "Roll No.: 109\n",
      "CGPA: 3.4\n",
      "\n",
      "Name: Jack\n",
      "Roll No.: 110\n",
      "CGPA: 3.0\n",
      "\n"
     ]
    }
   ],
   "source": [
    "class Student:\n",
    "    def __init__(self, name, roll, cgpa):\n",
    "        self.name = name\n",
    "        self.roll = roll\n",
    "        self.cgpa = cgpa\n",
    "\n",
    "students = []  # initialize an empty list to hold the student objects\n",
    "\n",
    "# insert 10 student records\n",
    "students.append(Student(\"Alice\", 101, 3.5))\n",
    "students.append(Student(\"Bob\", 102, 3.2))\n",
    "students.append(Student(\"Charlie\", 103, 3.8))\n",
    "students.append(Student(\"Dave\", 104, 3.1))\n",
    "students.append(Student(\"Emma\", 105, 3.9))\n",
    "students.append(Student(\"Frank\", 106, 3.6))\n",
    "students.append(Student(\"Grace\", 107, 3.3))\n",
    "students.append(Student(\"Henry\", 108, 3.7))\n",
    "students.append(Student(\"Isabelle\", 109, 3.4))\n",
    "students.append(Student(\"Jack\", 110, 3.0))\n",
    "\n",
    "# print out the student records\n",
    "for student in students:\n",
    "    print(\"Name:\", student.name)\n",
    "    print(\"Roll No.:\", student.roll)\n",
    "    print(\"CGPA:\", student.cgpa)\n",
    "    print()  # print a blank line to separate the records\n"
   ]
  },
  {
   "cell_type": "code",
   "execution_count": null,
   "id": "81e11f04",
   "metadata": {},
   "outputs": [],
   "source": [
    "#create a class and display employee employee id,salry and department using parameterized constructor"
   ]
  },
  {
   "cell_type": "code",
   "execution_count": 24,
   "id": "d9ac8f2a",
   "metadata": {},
   "outputs": [
    {
     "name": "stdout",
     "output_type": "stream",
     "text": [
      "Employee ID: E101\n",
      "Salary: 50000\n",
      "Department: Sales\n"
     ]
    }
   ],
   "source": [
    "class Employee:\n",
    "    def __init__(self, emp_id, salary, department):\n",
    "        self.emp_id = emp_id\n",
    "        self.salary = salary\n",
    "        self.department = department\n",
    "\n",
    "    def display_employee_details(self):\n",
    "        print(\"Employee ID:\", self.emp_id)\n",
    "        print(\"Salary:\", self.salary)\n",
    "        print(\"Department:\", self.department)\n",
    "\n",
    "emp1 = Employee(\"E101\", 50000, \"Sales\")\n",
    "emp1.display_employee_details()\n"
   ]
  },
  {
   "cell_type": "code",
   "execution_count": null,
   "id": "c18d6298",
   "metadata": {},
   "outputs": [],
   "source": [
    "#class variable is an instance variable"
   ]
  },
  {
   "cell_type": "code",
   "execution_count": null,
   "id": "e013e9f5",
   "metadata": {},
   "outputs": [],
   "source": [
    "#create class variable name x and create instance variable and implement x 4 times"
   ]
  },
  {
   "cell_type": "code",
   "execution_count": 25,
   "id": "530f9c64",
   "metadata": {},
   "outputs": [
    {
     "name": "stdout",
     "output_type": "stream",
     "text": [
      "a = 123\n",
      "b = 123\n",
      "c = 123\n",
      "d = 123\n"
     ]
    }
   ],
   "source": [
    "class MyClass:\n",
    "    x = 123\n",
    "\n",
    "    def __init__(self):\n",
    "        self.a = MyClass.x\n",
    "        self.b = MyClass.x\n",
    "        self.c = MyClass.x\n",
    "        self.d = MyClass.x\n",
    "\n",
    "\n",
    "obj = MyClass()\n",
    "\n",
    "print(\"a =\", obj.a)\n"
   ]
  },
  {
   "cell_type": "code",
   "execution_count": 26,
   "id": "5cd98113",
   "metadata": {},
   "outputs": [
    {
     "name": "stdout",
     "output_type": "stream",
     "text": [
      "obj1: x= 4 y= 1\n",
      "obj2: x= 4 y= 2\n",
      "obj3: x= 4 y= 3\n",
      "obj4: x= 4 y= 4\n"
     ]
    }
   ],
   "source": [
    "class MyClass:\n",
    "    x = 0\n",
    "\n",
    "    def __init__(self, y):\n",
    "        self.y = y\n",
    "\n",
    "\n",
    "obj1 = MyClass(1)\n",
    "obj2 = MyClass(2)\n",
    "obj3 = MyClass(3)\n",
    "obj4 = MyClass(4)\n",
    "\n",
    "\n",
    "MyClass.x += 1\n",
    "MyClass.x += 1\n",
    "MyClass.x += 1\n",
    "MyClass.x += 1\n",
    "\n",
    "\n",
    "print(\"obj1: x=\", obj1.x, \"y=\", obj1.y)\n",
    "print(\"obj2: x=\", obj2.x, \"y=\", obj2.y)\n",
    "print(\"obj3: x=\", obj3.x, \"y=\", obj3.y)\n",
    "print(\"obj4: x=\", obj4.x, \"y=\", obj4.y)\n"
   ]
  },
  {
   "cell_type": "code",
   "execution_count": null,
   "id": "aac0bd02",
   "metadata": {},
   "outputs": [],
   "source": []
  },
  {
   "cell_type": "code",
   "execution_count": null,
   "id": "9e9d0da2",
   "metadata": {},
   "outputs": [],
   "source": []
  },
  {
   "cell_type": "code",
   "execution_count": null,
   "id": "02765649",
   "metadata": {},
   "outputs": [],
   "source": []
  },
  {
   "cell_type": "raw",
   "id": "9dbdb215",
   "metadata": {},
   "source": []
  }
 ],
 "metadata": {
  "kernelspec": {
   "display_name": "Python 3 (ipykernel)",
   "language": "python",
   "name": "python3"
  },
  "language_info": {
   "codemirror_mode": {
    "name": "ipython",
    "version": 3
   },
   "file_extension": ".py",
   "mimetype": "text/x-python",
   "name": "python",
   "nbconvert_exporter": "python",
   "pygments_lexer": "ipython3",
   "version": "3.9.13"
  }
 },
 "nbformat": 4,
 "nbformat_minor": 5
}
