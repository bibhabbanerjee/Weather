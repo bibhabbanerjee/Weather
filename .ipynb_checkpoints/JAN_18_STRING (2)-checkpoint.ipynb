{
 "cells": [
  {
   "cell_type": "code",
   "execution_count": 2,
   "id": "f1c635be",
   "metadata": {},
   "outputs": [
    {
     "name": "stdout",
     "output_type": "stream",
     "text": [
      "<class 'list'>\n"
     ]
    }
   ],
   "source": [
    "mylist=[]\n",
    "print(type(mylist))"
   ]
  },
  {
   "cell_type": "code",
   "execution_count": 6,
   "id": "ed6dd84d",
   "metadata": {},
   "outputs": [
    {
     "name": "stdout",
     "output_type": "stream",
     "text": [
      "[34, 78, 'NLP', True, -23, False]\n"
     ]
    }
   ],
   "source": [
    "list1=[34,78,\"NLP\",True,-23]\n",
    "list1.append(False)\n",
    "print(list1)"
   ]
  },
  {
   "cell_type": "code",
   "execution_count": 7,
   "id": "c83cbd29",
   "metadata": {},
   "outputs": [
    {
     "name": "stdout",
     "output_type": "stream",
     "text": [
      "[34, 78, 'Strange', 'NLP', True, -23, False]\n"
     ]
    }
   ],
   "source": [
    "list1.insert(2,\"Strange\")\n",
    "print(list1)"
   ]
  },
  {
   "cell_type": "code",
   "execution_count": 4,
   "id": "7ff1993d",
   "metadata": {},
   "outputs": [],
   "source": [
    "import math"
   ]
  },
  {
   "cell_type": "code",
   "execution_count": 9,
   "id": "0ee50be8",
   "metadata": {},
   "outputs": [
    {
     "name": "stdout",
     "output_type": "stream",
     "text": [
      "enter a value: 9\n",
      "enter a value: 6\n",
      "enter a value: 78\n",
      "enter a value: strange\n",
      "enter a value: nlp\n",
      "enter a value: \n",
      "Invalid input!\n",
      "All the outputs are in list:  [3.0, 2.449489742783178, 8.831760866327848, 7, 3]\n"
     ]
    }
   ],
   "source": [
    "mylist=[]\n",
    "while(True):\n",
    "    x=input(\"enter a value: \")\n",
    "    if(not x):\n",
    "        print(\"Invalid input!\")\n",
    "        break\n",
    "    if(x.isdigit()):\n",
    "        x=int(x)\n",
    "        mylist.append(math.sqrt(x))\n",
    "    else:\n",
    "        mylist.append(len(x))\n",
    "print(\"All the outputs are in list: \",mylist)"
   ]
  },
  {
   "cell_type": "code",
   "execution_count": null,
   "id": "cfc7f5ec",
   "metadata": {},
   "outputs": [],
   "source": []
  }
 ],
 "metadata": {
  "kernelspec": {
   "display_name": "Python 3 (ipykernel)",
   "language": "python",
   "name": "python3"
  },
  "language_info": {
   "codemirror_mode": {
    "name": "ipython",
    "version": 3
   },
   "file_extension": ".py",
   "mimetype": "text/x-python",
   "name": "python",
   "nbconvert_exporter": "python",
   "pygments_lexer": "ipython3",
   "version": "3.9.13"
  }
 },
 "nbformat": 4,
 "nbformat_minor": 5
}
