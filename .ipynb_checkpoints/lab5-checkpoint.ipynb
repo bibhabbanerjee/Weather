{
 "cells": [
  {
   "cell_type": "code",
   "execution_count": null,
   "id": "c4053a6f",
   "metadata": {},
   "outputs": [],
   "source": [
    "add_fifteen = lambda x: x + 15\n",
    "multiply = lambda x, y: print(x * y)\n",
    "\n",
    "# Example Usage:\n",
    "print(add_fifteen(10)) \n",
    "multiply(3, 4)"
   ]
  },
  {
   "cell_type": "code",
   "execution_count": null,
   "id": "11a6d23c",
   "metadata": {},
   "outputs": [],
   "source": [
    "my_list = [('English', 88), ('Science', 90), ('Maths', 97), ('Social sciences', 82)]\n",
    "sorted_list = sorted(my_list, key=lambda x: x[1])\n",
    "\n",
    "# Example Usage:\n",
    "print(\"Original list of tuples: \", my_list)\n",
    "print(\"Sorting the List of Tuples: \", sorted_list)"
   ]
  },
  {
   "cell_type": "code",
   "execution_count": null,
   "id": "44a6991e",
   "metadata": {},
   "outputs": [],
   "source": [
    "my_list = [1, 2, 3, 4, 5, 6, 7, 8, 9, 10]\n",
    "even_list = list(filter(lambda x: x % 2 == 0, my_list))\n",
    "odd_list = list(filter(lambda x: x % 2 != 0, my_list))\n",
    "\n",
    "# Example Usage:\n",
    "print(\"Original list of integers: \", my_list)\n",
    "print(\"Even numbers from the said list: \", even_list)\n",
    "print(\"Odd numbers from the said list: \", odd_list)"
   ]
  },
  {
   "cell_type": "code",
   "execution_count": null,
   "id": "a2331a46",
   "metadata": {},
   "outputs": [],
   "source": [
    "my_list = [1, 2, 3, 4, 5, 6, 7, 8, 9, 10]\n",
    "squared_list = list(map(lambda x: x**2, my_list))\n",
    "cubed_list = list(map(lambda x: x**3, my_list))\n",
    "\n",
    "# Example Usage:\n",
    "print(\"Original list of integers: \", my_list)\n",
    "print(\"Square every number of the said list: \", squared_list)\n",
    "print(\"Cube every number of the said list: \", cubed_list)"
   ]
  },
  {
   "cell_type": "code",
   "execution_count": null,
   "id": "22adcac6",
   "metadata": {},
   "outputs": [],
   "source": [
    "startsWith = lambda string, char: string.startswith(char)\n",
    "\n",
    "print(startsWith(\"Python\", \"P\")) \n",
    "print(startsWith(\"Java\", \"P\"))   \n",
    "print(startsWith(\"Oracle\", \"P\")) \n",
    "print(startsWith(\"bibhab\", \"P\")) \n"
   ]
  }
 ],
 "metadata": {
  "kernelspec": {
   "display_name": "Python 3 (ipykernel)",
   "language": "python",
   "name": "python3"
  },
  "language_info": {
   "codemirror_mode": {
    "name": "ipython",
    "version": 3
   },
   "file_extension": ".py",
   "mimetype": "text/x-python",
   "name": "python",
   "nbconvert_exporter": "python",
   "pygments_lexer": "ipython3",
   "version": "3.9.13"
  }
 },
 "nbformat": 4,
 "nbformat_minor": 5
}
