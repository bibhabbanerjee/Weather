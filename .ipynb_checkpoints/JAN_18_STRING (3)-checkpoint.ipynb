{
 "cells": [
  {
   "cell_type": "code",
   "execution_count": 2,
   "id": "d0539a4b",
   "metadata": {},
   "outputs": [
    {
     "name": "stdout",
     "output_type": "stream",
     "text": [
      "<class 'list'>\n"
     ]
    }
   ],
   "source": [
    "mylist=[]\n",
    "print(type(mylist))"
   ]
  },
  {
   "cell_type": "code",
   "execution_count": 6,
   "id": "4a90f378",
   "metadata": {},
   "outputs": [
    {
     "name": "stdout",
     "output_type": "stream",
     "text": [
      "[34, 78, 'NLP', True, -23, False]\n"
     ]
    }
   ],
   "source": [
    "list1=[34,78,\"NLP\",True,-23]\n",
    "list1.append(False)\n",
    "print(list1)"
   ]
  },
  {
   "cell_type": "code",
   "execution_count": 7,
   "id": "24ce3c06",
   "metadata": {},
   "outputs": [
    {
     "name": "stdout",
     "output_type": "stream",
     "text": [
      "[34, 78, 'Strange', 'NLP', True, -23, False]\n"
     ]
    }
   ],
   "source": [
    "list1.insert(2,\"Strange\")\n",
    "print(list1)"
   ]
  },
  {
   "cell_type": "code",
   "execution_count": 4,
   "id": "0b341df1",
   "metadata": {},
   "outputs": [],
   "source": [
    "import math"
   ]
  },
  {
   "cell_type": "code",
   "execution_count": 9,
   "id": "59efe72f",
   "metadata": {},
   "outputs": [
    {
     "name": "stdout",
     "output_type": "stream",
     "text": [
      "enter a value: 9\n",
      "enter a value: 6\n",
      "enter a value: 78\n",
      "enter a value: strange\n",
      "enter a value: nlp\n",
      "enter a value: \n",
      "Invalid input!\n",
      "All the outputs are in list:  [3.0, 2.449489742783178, 8.831760866327848, 7, 3]\n"
     ]
    }
   ],
   "source": [
    "mylist=[]\n",
    "while(True):\n",
    "    x=input(\"enter a value: \")\n",
    "    if(not x):\n",
    "        print(\"Invalid input!\")\n",
    "        break\n",
    "    if(x.isdigit()):\n",
    "        x=int(x)\n",
    "        mylist.append(math.sqrt(x))\n",
    "    else:\n",
    "        mylist.append(len(x))\n",
    "print(\"All the outputs are in list: \",mylist)"
   ]
  },
  {
   "cell_type": "markdown",
   "id": "258063b2",
   "metadata": {},
   "source": [
    "### List "
   ]
  },
  {
   "cell_type": "markdown",
   "id": "34df3819",
   "metadata": {},
   "source": [
    "##### operations"
   ]
  },
  {
   "cell_type": "code",
   "execution_count": 11,
   "id": "530df69d",
   "metadata": {},
   "outputs": [],
   "source": [
    "# Find the square and cube of 6 integers "
   ]
  },
  {
   "cell_type": "code",
   "execution_count": 16,
   "id": "d3f4c5fb",
   "metadata": {},
   "outputs": [
    {
     "name": "stdout",
     "output_type": "stream",
     "text": [
      "125 ,729 ,91125 ,64 ,-216 ,"
     ]
    }
   ],
   "source": [
    "num=[5,9,45,4,-6]\n",
    "for x in num:\n",
    "    print(x**3,end=\" ,\")"
   ]
  },
  {
   "cell_type": "markdown",
   "id": "78ee0ce3",
   "metadata": {},
   "source": [
    "### LIST COMPRHENSION"
   ]
  },
  {
   "cell_type": "code",
   "execution_count": 18,
   "id": "c54bd735",
   "metadata": {},
   "outputs": [
    {
     "name": "stdout",
     "output_type": "stream",
     "text": [
      "25\n",
      "81\n",
      "2025\n",
      "16\n",
      "36\n",
      "[None, None, None, None, None]\n"
     ]
    }
   ],
   "source": [
    "num1=[print(x*x) for x in num]\n",
    "print(num1)"
   ]
  },
  {
   "cell_type": "code",
   "execution_count": 19,
   "id": "380a655d",
   "metadata": {},
   "outputs": [
    {
     "data": {
      "text/plain": [
       "[5, 9, 45, 4, -6]"
      ]
     },
     "execution_count": 19,
     "metadata": {},
     "output_type": "execute_result"
    }
   ],
   "source": [
    "num\n"
   ]
  },
  {
   "cell_type": "code",
   "execution_count": 20,
   "id": "0dddeac8",
   "metadata": {},
   "outputs": [],
   "source": [
    "# remove an element from a list\n"
   ]
  },
  {
   "cell_type": "code",
   "execution_count": 21,
   "id": "2c41dc93",
   "metadata": {},
   "outputs": [
    {
     "data": {
      "text/plain": [
       "[5, 9, 45, -6]"
      ]
     },
     "execution_count": 21,
     "metadata": {},
     "output_type": "execute_result"
    }
   ],
   "source": [
    "num.remove(4)\n",
    "num"
   ]
  },
  {
   "cell_type": "code",
   "execution_count": 22,
   "id": "39c3f733",
   "metadata": {},
   "outputs": [],
   "source": [
    "# by giving index remove element"
   ]
  },
  {
   "cell_type": "code",
   "execution_count": 23,
   "id": "d176eb32",
   "metadata": {},
   "outputs": [
    {
     "data": {
      "text/plain": [
       "['__add__',\n",
       " '__class__',\n",
       " '__class_getitem__',\n",
       " '__contains__',\n",
       " '__delattr__',\n",
       " '__delitem__',\n",
       " '__dir__',\n",
       " '__doc__',\n",
       " '__eq__',\n",
       " '__format__',\n",
       " '__ge__',\n",
       " '__getattribute__',\n",
       " '__getitem__',\n",
       " '__gt__',\n",
       " '__hash__',\n",
       " '__iadd__',\n",
       " '__imul__',\n",
       " '__init__',\n",
       " '__init_subclass__',\n",
       " '__iter__',\n",
       " '__le__',\n",
       " '__len__',\n",
       " '__lt__',\n",
       " '__mul__',\n",
       " '__ne__',\n",
       " '__new__',\n",
       " '__reduce__',\n",
       " '__reduce_ex__',\n",
       " '__repr__',\n",
       " '__reversed__',\n",
       " '__rmul__',\n",
       " '__setattr__',\n",
       " '__setitem__',\n",
       " '__sizeof__',\n",
       " '__str__',\n",
       " '__subclasshook__',\n",
       " 'append',\n",
       " 'clear',\n",
       " 'copy',\n",
       " 'count',\n",
       " 'extend',\n",
       " 'index',\n",
       " 'insert',\n",
       " 'pop',\n",
       " 'remove',\n",
       " 'reverse',\n",
       " 'sort']"
      ]
     },
     "execution_count": 23,
     "metadata": {},
     "output_type": "execute_result"
    }
   ],
   "source": [
    "dir(list)"
   ]
  },
  {
   "cell_type": "code",
   "execution_count": 24,
   "id": "67aef208",
   "metadata": {},
   "outputs": [
    {
     "name": "stdout",
     "output_type": "stream",
     "text": [
      "Help on method_descriptor:\n",
      "\n",
      "pop(self, index=-1, /)\n",
      "    Remove and return item at index (default last).\n",
      "    \n",
      "    Raises IndexError if list is empty or index is out of range.\n",
      "\n"
     ]
    }
   ],
   "source": [
    "help(list.pop)"
   ]
  },
  {
   "cell_type": "code",
   "execution_count": 25,
   "id": "fc236fc1",
   "metadata": {},
   "outputs": [
    {
     "data": {
      "text/plain": [
       "[5, 45, -6]"
      ]
     },
     "execution_count": 25,
     "metadata": {},
     "output_type": "execute_result"
    }
   ],
   "source": [
    "num.pop(1)\n",
    "num"
   ]
  },
  {
   "cell_type": "code",
   "execution_count": 26,
   "id": "f039d754",
   "metadata": {},
   "outputs": [
    {
     "data": {
      "text/plain": [
       "1"
      ]
     },
     "execution_count": 26,
     "metadata": {},
     "output_type": "execute_result"
    }
   ],
   "source": [
    "num.index(45)"
   ]
  },
  {
   "cell_type": "code",
   "execution_count": 28,
   "id": "67f6ea9d",
   "metadata": {},
   "outputs": [
    {
     "data": {
      "text/plain": [
       "[56, 'val', False]"
      ]
     },
     "execution_count": 28,
     "metadata": {},
     "output_type": "execute_result"
    }
   ],
   "source": [
    "newlist=[56,\"val\",False]\n",
    "num\n",
    "newlist"
   ]
  },
  {
   "cell_type": "code",
   "execution_count": 29,
   "id": "cfc66610",
   "metadata": {},
   "outputs": [
    {
     "data": {
      "text/plain": [
       "[5, 45, -6]"
      ]
     },
     "execution_count": 29,
     "metadata": {},
     "output_type": "execute_result"
    }
   ],
   "source": [
    "num\n"
   ]
  },
  {
   "cell_type": "code",
   "execution_count": 30,
   "id": "b190581d",
   "metadata": {},
   "outputs": [
    {
     "name": "stdout",
     "output_type": "stream",
     "text": [
      "[5, 45, -6, 56, 'val', False]\n"
     ]
    }
   ],
   "source": [
    "num.extend(newlist)\n",
    "print(num)"
   ]
  },
  {
   "cell_type": "code",
   "execution_count": 43,
   "id": "4fc95e39",
   "metadata": {},
   "outputs": [
    {
     "data": {
      "text/plain": [
       "['NLP', 't', 0]"
      ]
     },
     "execution_count": 43,
     "metadata": {},
     "output_type": "execute_result"
    }
   ],
   "source": [
    "list=[34,78,[\"NLP\",\"t\",0],[45,-34,25],True,-23]\n",
    "list[2]"
   ]
  },
  {
   "cell_type": "code",
   "execution_count": 38,
   "id": "2f1c359d",
   "metadata": {},
   "outputs": [
    {
     "data": {
      "text/plain": [
       "[45, -34, 25]"
      ]
     },
     "execution_count": 38,
     "metadata": {},
     "output_type": "execute_result"
    }
   ],
   "source": [
    "list[3]"
   ]
  },
  {
   "cell_type": "code",
   "execution_count": 39,
   "id": "8bd6ed1f",
   "metadata": {},
   "outputs": [
    {
     "data": {
      "text/plain": [
       "-34"
      ]
     },
     "execution_count": 39,
     "metadata": {},
     "output_type": "execute_result"
    }
   ],
   "source": [
    "list[3][1]"
   ]
  },
  {
   "cell_type": "code",
   "execution_count": 41,
   "id": "55218f14",
   "metadata": {},
   "outputs": [],
   "source": [
    "list[3].append(False)"
   ]
  },
  {
   "cell_type": "code",
   "execution_count": 36,
   "id": "bc1dcb75",
   "metadata": {},
   "outputs": [
    {
     "data": {
      "text/plain": [
       "[34, 78, 'NLP', [45, -34, 25, False], True, -23]"
      ]
     },
     "execution_count": 36,
     "metadata": {},
     "output_type": "execute_result"
    }
   ],
   "source": [
    "list"
   ]
  },
  {
   "cell_type": "code",
   "execution_count": 46,
   "id": "5df9fbb6",
   "metadata": {},
   "outputs": [
    {
     "data": {
      "text/plain": [
       "[34, 78, ['NLP', 't', 0, False], [45, -34, 25], True, -23]"
      ]
     },
     "execution_count": 46,
     "metadata": {},
     "output_type": "execute_result"
    }
   ],
   "source": [
    "list\n"
   ]
  },
  {
   "cell_type": "code",
   "execution_count": 48,
   "id": "58ae4a8a",
   "metadata": {},
   "outputs": [
    {
     "data": {
      "text/plain": [
       "[34, 78, [56, 56, 'NLP', 't', 0, False], [45, -34, 25], True, -23]"
      ]
     },
     "execution_count": 48,
     "metadata": {},
     "output_type": "execute_result"
    }
   ],
   "source": [
    "list[2].insert(0,56)\n",
    "list"
   ]
  },
  {
   "cell_type": "code",
   "execution_count": 45,
   "id": "5c833f12",
   "metadata": {},
   "outputs": [
    {
     "data": {
      "text/plain": [
       "[34, 78, ['NLP', 't', 0, False], [45, -34, 25], True, -23]"
      ]
     },
     "execution_count": 45,
     "metadata": {},
     "output_type": "execute_result"
    }
   ],
   "source": [
    "list\n"
   ]
  },
  {
   "cell_type": "code",
   "execution_count": null,
   "id": "745b6c79",
   "metadata": {},
   "outputs": [],
   "source": []
  }
 ],
 "metadata": {
  "kernelspec": {
   "display_name": "Python 3 (ipykernel)",
   "language": "python",
   "name": "python3"
  },
  "language_info": {
   "codemirror_mode": {
    "name": "ipython",
    "version": 3
   },
   "file_extension": ".py",
   "mimetype": "text/x-python",
   "name": "python",
   "nbconvert_exporter": "python",
   "pygments_lexer": "ipython3",
   "version": "3.9.13"
  }
 },
 "nbformat": 4,
 "nbformat_minor": 5
}
