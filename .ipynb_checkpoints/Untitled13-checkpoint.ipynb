{
 "cells": [
  {
   "cell_type": "code",
   "execution_count": null,
   "id": "a186f424",
   "metadata": {},
   "outputs": [],
   "source": [
    "def add_6(mylist)\n",
    "    list2=[]\n",
    "    for i in mylist:\n",
    "        list2.append(i=6)\n",
    "    return list2\n",
    "\n",
    "add_6()"
   ]
  },
  {
   "cell_type": "code",
   "execution_count": 1,
   "id": "aa427002",
   "metadata": {},
   "outputs": [
    {
     "data": {
      "text/plain": [
       "['Chennai', 'Mumbai']"
      ]
     },
     "execution_count": 1,
     "metadata": {},
     "output_type": "execute_result"
    }
   ],
   "source": [
    "list2=['Chennai','Mumbai','BBSR']\n",
    "list(filter(lambda item:'ai' in item ,list2))"
   ]
  },
  {
   "cell_type": "code",
   "execution_count": 2,
   "id": "7aa727fd",
   "metadata": {},
   "outputs": [
    {
     "ename": "SyntaxError",
     "evalue": "invalid syntax (1305890498.py, line 2)",
     "output_type": "error",
     "traceback": [
      "\u001b[1;36m  File \u001b[1;32m\"C:\\Users\\KIIT\\AppData\\Local\\Temp\\ipykernel_2688\\1305890498.py\"\u001b[1;36m, line \u001b[1;32m2\u001b[0m\n\u001b[1;33m    return a**\u001b[0m\n\u001b[1;37m              ^\u001b[0m\n\u001b[1;31mSyntaxError\u001b[0m\u001b[1;31m:\u001b[0m invalid syntax\n"
     ]
    }
   ],
   "source": [
    "def cube(a):\n",
    "    return a**"
   ]
  },
  {
   "cell_type": "code",
   "execution_count": 3,
   "id": "2f70e7ac",
   "metadata": {},
   "outputs": [
    {
     "name": "stdout",
     "output_type": "stream",
     "text": [
      "2.0\n",
      "3.0\n",
      "5.0\n"
     ]
    }
   ],
   "source": [
    "cube_root = lambda x: x**(1/3)\n",
    "print(cube_root(8))  \n",
    "print(cube_root(27))  \n",
    "print(cube_root(125))  "
   ]
  },
  {
   "cell_type": "code",
   "execution_count": 6,
   "id": "5f233874",
   "metadata": {},
   "outputs": [
    {
     "name": "stdout",
     "output_type": "stream",
     "text": [
      "20\n"
     ]
    }
   ],
   "source": [
    "#print largest number between 2 number using lambda function\n",
    "largest = lambda x, y: x if x > y else y\n",
    "\n",
    "a = 10\n",
    "b = 20\n",
    "print(largest(a, b))  \n"
   ]
  },
  {
   "cell_type": "code",
   "execution_count": 12,
   "id": "ae0a59b8",
   "metadata": {},
   "outputs": [
    {
     "name": "stdout",
     "output_type": "stream",
     "text": [
      "[1, 3, 5, 7, 9]\n"
     ]
    }
   ],
   "source": [
    "my_list = [1, 2, 3, 4, 5, 6, 7, 8, 9]\n",
    "\n",
    "odd_numbers = list(filter(lambda x: x % 2 != 0, my_list))\n",
    "\n",
    "print(odd_numbers)\n"
   ]
  },
  {
   "cell_type": "code",
   "execution_count": 8,
   "id": "b0d642e9",
   "metadata": {},
   "outputs": [
    {
     "data": {
      "text/plain": [
       "[2, 4, 6]"
      ]
     },
     "execution_count": 8,
     "metadata": {},
     "output_type": "execute_result"
    }
   ],
   "source": [
    "list1=[1,2,3,4,5,6]\n",
    "list(filter(lambda item: item%2==0,list1))"
   ]
  },
  {
   "cell_type": "code",
   "execution_count": 13,
   "id": "b8cc0c63",
   "metadata": {},
   "outputs": [
    {
     "name": "stdout",
     "output_type": "stream",
     "text": [
      "3.0\n"
     ]
    }
   ],
   "source": [
    "#averge of numbers lambda function\n",
    "numbers = [1, 2, 3, 4, 5]\n",
    "\n",
    "average = lambda nums: sum(nums) / len(nums)\n",
    "\n",
    "print(average(numbers)) \n"
   ]
  },
  {
   "cell_type": "code",
   "execution_count": 16,
   "id": "6653dbf3",
   "metadata": {},
   "outputs": [
    {
     "data": {
      "text/plain": [
       "[1, 4, 9, 16, 25]"
      ]
     },
     "execution_count": 16,
     "metadata": {},
     "output_type": "execute_result"
    }
   ],
   "source": [
    "#map function\n",
    "list1=[1,2,3,4,5]\n",
    "def square(n):\n",
    "     return n*n\n",
    "list(map(square,list1))"
   ]
  },
  {
   "cell_type": "code",
   "execution_count": 17,
   "id": "54ab211c",
   "metadata": {},
   "outputs": [
    {
     "name": "stdout",
     "output_type": "stream",
     "text": [
      "[1, 8, 27, 64, 125]\n"
     ]
    }
   ],
   "source": [
    "numbers = [1, 2, 3, 4, 5]\n",
    "\n",
    "cubes = list(map(lambda x: x ** 3, numbers))\n",
    "\n",
    "print(cubes)"
   ]
  },
  {
   "cell_type": "code",
   "execution_count": 22,
   "id": "346f5589",
   "metadata": {},
   "outputs": [
    {
     "name": "stdout",
     "output_type": "stream",
     "text": [
      "64\n",
      "729\n",
      "15625\n"
     ]
    }
   ],
   "source": [
    "square_root = lambda x: x**(2)\n",
    "print(square_root(-8))  \n",
    "print(square_root(27))  \n",
    "print(square_root(125))  "
   ]
  },
  {
   "cell_type": "code",
   "execution_count": null,
   "id": "19938f39",
   "metadata": {},
   "outputs": [],
   "source": [
    "def add_6(mylist):\n",
    "    list2=[]\n",
    "    for i in mylist:\n",
    "        list2.append(i+6)\n",
    "    return list2\n",
    "\n",
    "list_1 = [10,20,30,40,50]\n",
    "res = map(add_6,list_1)\n",
    "print(list(res))"
   ]
  },
  {
   "cell_type": "code",
   "execution_count": 30,
   "id": "d126a789",
   "metadata": {},
   "outputs": [
    {
     "name": "stdout",
     "output_type": "stream",
     "text": [
      "The area of a circle with radius 2 is 12.566370614359172\n",
      "The area of a circle with radius 4 is 50.26548245743669\n",
      "The area of a circle with radius 6 is 113.09733552923255\n",
      "The area of a circle with radius 8 is 201.06192982974676\n",
      "The area of a circle with radius 10 is 314.1592653589793\n"
     ]
    }
   ],
   "source": [
    "#display the area of circle using a list of 5 different radius using map\n",
    "import math\n",
    "\n",
    "def area_of_circle(radius):\n",
    "    return math.pi * radius ** 2\n",
    "\n",
    "radii = [2, 4, 6, 8, 10]\n",
    "\n",
    "areas = list(map(area_of_circle, radii))\n",
    "\n",
    "for i in range(len(radii)):\n",
    "    print(f\"The area of a circle with radius {radii[i]} is {areas[i]}\")"
   ]
  },
  {
   "cell_type": "code",
   "execution_count": 33,
   "id": "bf7a6ac2",
   "metadata": {},
   "outputs": [
    {
     "name": "stdout",
     "output_type": "stream",
     "text": [
      "The areas of circles with radii [2, 3, 4, 5, 6] are: [12.57, 28.27, 50.27, 78.54, 113.1]\n"
     ]
    }
   ],
   "source": [
    "radii = [2, 3, 4, 5, 6] \n",
    "\n",
    "# Use map() and lambda function to calculate the area of a circle for each radius\n",
    "areas = list(map(lambda r: round(3.14159 * r**2, 2), radii))\n",
    "\n",
    "# Print the areas of the circles for each radius\n",
    "print(\"The areas of circles with radii\", radii, \"are:\", areas)\n"
   ]
  },
  {
   "cell_type": "code",
   "execution_count": 32,
   "id": "86a2b00a",
   "metadata": {},
   "outputs": [
    {
     "name": "stdout",
     "output_type": "stream",
     "text": [
      "The odd numbers in [1, 2, 3, 4, 5, 6, 7, 8, 9] are: [1, 3, 5, 7, 9]\n"
     ]
    }
   ],
   "source": [
    "numbers = [1, 2, 3, 4, 5, 6, 7, 8, 9] \n",
    "\n",
    "# Use map() to create a new list of odd numbers from the list\n",
    "odds = list(map(lambda x: x if x % 2 != 0 else None, numbers))\n",
    "odds = list(filter(lambda x: x is not None, odds))\n",
    "\n",
    "\n",
    "print(\"The odd numbers in\", numbers, \"are:\", odds)\n"
   ]
  },
  {
   "cell_type": "code",
   "execution_count": 34,
   "id": "3eed891e",
   "metadata": {},
   "outputs": [
    {
     "name": "stdout",
     "output_type": "stream",
     "text": [
      "[5, 10, 6, 8]\n"
     ]
    }
   ],
   "source": [
    "#display +ve numbers from collections of mixed numbers\n",
    "mixed_numbers = [-2, 5, 0, -7, 10, -3, 6, -1, 8]\n",
    "positive_numbers = list(filter(lambda x: x > 0, mixed_numbers))\n",
    "print(positive_numbers)"
   ]
  },
  {
   "cell_type": "code",
   "execution_count": 41,
   "id": "643b885f",
   "metadata": {},
   "outputs": [
    {
     "name": "stdout",
     "output_type": "stream",
     "text": [
      "[5, 10, 6, 8]\n"
     ]
    }
   ],
   "source": [
    "mixed_numbers = [-2, 5, 0, -7, 10, -3, 6, -1, 8]\n",
    "positive_numbers = list(filter(lambda x: x > 0, mixed_numbers))\n",
    "print(positive_numbers)\n",
    "for i in res:\n",
    "    print(i,end=\" \")"
   ]
  },
  {
   "cell_type": "code",
   "execution_count": null,
   "id": "21378b24",
   "metadata": {},
   "outputs": [],
   "source": []
  }
 ],
 "metadata": {
  "kernelspec": {
   "display_name": "Python 3 (ipykernel)",
   "language": "python",
   "name": "python3"
  },
  "language_info": {
   "codemirror_mode": {
    "name": "ipython",
    "version": 3
   },
   "file_extension": ".py",
   "mimetype": "text/x-python",
   "name": "python",
   "nbconvert_exporter": "python",
   "pygments_lexer": "ipython3",
   "version": "3.9.13"
  }
 },
 "nbformat": 4,
 "nbformat_minor": 5
}
