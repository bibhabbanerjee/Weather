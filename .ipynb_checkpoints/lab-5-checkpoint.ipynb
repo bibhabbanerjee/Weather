{
 "cells": [
  {
   "cell_type": "code",
   "execution_count": null,
   "id": "739a8e03",
   "metadata": {},
   "outputs": [],
   "source": [
    "arr1 = [1, 2, 3, 5, 7, 8, 9, 10]\n",
    "arr2 = [1, 2, 4, 8, 9]\n",
    "\n",
    "result = list(filter(lambda x: x in arr1, arr2))\n",
    "\n",
    "print(result)\n"
   ]
  },
  {
   "cell_type": "code",
   "execution_count": null,
   "id": "6b126432",
   "metadata": {},
   "outputs": [],
   "source": [
    "arr = [1, 2, 3, 5, 7, 8, 9, 10]\n",
    "\n",
    "even_count = len(list(filter(lambda x: x%2 == 0, arr)))\n",
    "odd_count = len(list(filter(lambda x: x%2 == 1, arr)))\n",
    "\n",
    "print(\"Number of even numbers in the above array:\", even_count)\n",
    "print(\"Number of odd numbers in the above array:\", odd_count)\n"
   ]
  },
  {
   "cell_type": "code",
   "execution_count": null,
   "id": "646ce4c8",
   "metadata": {},
   "outputs": [],
   "source": [
    "num = [101,-2,-3,4,5,-6,7,-8,-9,10]\n",
    "\n",
    "result = sorted(num, key=lambda x: x>=0)\n",
    "\n",
    "print(result)\n"
   ]
  },
  {
   "cell_type": "code",
   "execution_count": null,
   "id": "0d1fc25a",
   "metadata": {},
   "outputs": [],
   "source": [
    "words = ['php', 'w3r', 'Python', 'abcd', 'Java', 'aaa']\n",
    "\n",
    "palindromes = list(filter(lambda x: x == x[::-1], words))\n",
    "\n",
    "print(\"List of palindromes:\")\n",
    "print(palindromes)\n"
   ]
  },
  {
   "cell_type": "code",
   "execution_count": 1,
   "id": "0f8e1354",
   "metadata": {},
   "outputs": [
    {
     "name": "stdout",
     "output_type": "stream",
     "text": [
      "List with maximum length of lists:\n",
      "3 [13, 15, 17]\n",
      "List with minimum length of lists:\n",
      "1 [0]\n"
     ]
    }
   ],
   "source": [
    "lst = [[0], [1, 3], [5, 7], [9, 11], [13, 15, 17]]\n",
    "\n",
    "max_list = max(lst, key=lambda x: len(x))\n",
    "min_list = min(lst, key=lambda x: len(x))\n",
    "\n",
    "print(\"List with maximum length of lists:\")\n",
    "print(len(max_list), max_list)\n",
    "\n",
    "print(\"List with minimum length of lists:\")\n",
    "print(len(min_list), min_list)\n"
   ]
  }
 ],
 "metadata": {
  "kernelspec": {
   "display_name": "Python 3 (ipykernel)",
   "language": "python",
   "name": "python3"
  },
  "language_info": {
   "codemirror_mode": {
    "name": "ipython",
    "version": 3
   },
   "file_extension": ".py",
   "mimetype": "text/x-python",
   "name": "python",
   "nbconvert_exporter": "python",
   "pygments_lexer": "ipython3",
   "version": "3.9.13"
  }
 },
 "nbformat": 4,
 "nbformat_minor": 5
}
